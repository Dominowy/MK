{
 "cells": [
  {
   "cell_type": "code",
   "execution_count": null,
   "metadata": {},
   "outputs": [],
   "source": [
    "#import bibliotek\n",
    "import numpy as np\n",
    "import pandas as pd"
   ]
  },
  {
   "cell_type": "code",
   "execution_count": null,
   "metadata": {},
   "outputs": [],
   "source": [
    "# Wczytanie danych z pliku CSV z separatorem średnika\n",
    "try:\n",
    "    df = pd.read_csv('war9.csv', sep=';')\n",
    "    print(df.head())  # opcjonalne: wyświetlenie pierwszych kilku wierszy, aby sprawdzić strukturę danych\n",
    "except FileNotFoundError:\n",
    "    print(\"Nie można znaleźć pliku dane.csv\")\n",
    "except Exception as e:\n",
    "    print(f\"Wystąpił problem podczas wczytywania danych: {e}\")"
   ]
  },
  {
   "cell_type": "code",
   "execution_count": null,
   "metadata": {},
   "outputs": [],
   "source": [
    "# Konwersja kolumny 'y' na numeryczną, jeśli nie jest już numeryczna\n",
    "df['y'] = pd.to_numeric(df['y'], errors='coerce')\n",
    "\n",
    "# Wyodrębnienie kolumn x1, x2 i y jako numpy arrays\n",
    "x1 = df['x1'].values\n",
    "x2 = df['x2'].values\n",
    "y = df['y'].values"
   ]
  },
  {
   "cell_type": "code",
   "execution_count": null,
   "metadata": {},
   "outputs": [],
   "source": [
    "# Tworzenie macierzy X z kolumn x1 i x2\n",
    "X = np.column_stack((x1, x2))\n",
    "\n",
    "# Obliczenie macierzy pseudoodwrotnej X+\n",
    "X_plus = np.linalg.pinv(X)"
   ]
  },
  {
   "cell_type": "code",
   "execution_count": null,
   "metadata": {},
   "outputs": [],
   "source": [
    "# Obliczenie współczynników a i b\n",
    "coefficients = np.dot(X_plus, y)\n",
    "\n",
    "# Współczynniki a i b\n",
    "a = coefficients[0]\n",
    "b = coefficients[1]\n",
    "\n",
    "print(f\"Współczynnik a: {a}\")\n",
    "print(f\"Współczynnik b: {b}\")"
   ]
  },
  {
   "cell_type": "markdown",
   "metadata": {},
   "source": [
    "   x1  x2            y\n",
    "0   1   2  11,11843759\n",
    "1   3   6  147,3473507\n",
    "2   5  10  300,2346477\n",
    "3   7  14  36,58630502\n",
    "4   9  18  469,5898873\n",
    "Współczynnik a: nan\n",
    "Współczynnik b: nan"
   ]
  }
 ],
 "metadata": {
  "language_info": {
   "name": "python"
  }
 },
 "nbformat": 4,
 "nbformat_minor": 2
}
